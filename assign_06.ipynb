{
 "cells": [
  {
   "cell_type": "markdown",
   "metadata": {},
   "source": [
    "#   Script programming assignment 06\n"
   ]
  },
  {
   "cell_type": "markdown",
   "metadata": {},
   "source": [
    "#### Q1. high_school_2019.csv 파일은 교육부에서 제공한 전국 고등학교의 학년별 학급수와 학생수 정보(2019 기준)를 저장한 CSV 파일이다. \n",
    "#### 코드 블록 내에 주어진 문제에 맞게 코드를 작성하시오. (Q1.1~1.4)\n"
   ]
  },
  {
   "cell_type": "code",
   "execution_count": null,
   "metadata": {},
   "outputs": [],
   "source": [
    "#Q1-1. high_school_2019.csv 파일을 읽어들여 2차원 리스트에 저장한 다음 출력하는 프로그램을 작성하시오.\n",
    "import csv\n",
    "import numpy as np\n",
    "import matplotlib.pyplot as plt\n",
    "\n",
    "# csv 파일을 읽는 것은 파이썬의 open 함수와 csv.reader() 함수를 이용한다.\n"
   ]
  },
  {
   "cell_type": "code",
   "execution_count": null,
   "metadata": {},
   "outputs": [],
   "source": [
    "#Q1-2. Q1-1.에 저장된 2차원 리스트 데이터 중에서 숫자 데이터에 해당되는 6개의 열(1학년 학급수, 1학년 학생수, 2학년 학급수, 2학년 학생수, 3학년 학급수, 3학년 학생수) 데이터를 ndarray에 저장하여 출력하는 프로그램을 작성하시오.\n",
    "\n",
    "# pandas는 사용하지 않고 numpy 함수 및 배열만 이용하여 코드를 작성하시오.\n"
   ]
  },
  {
   "cell_type": "code",
   "execution_count": null,
   "metadata": {},
   "outputs": [],
   "source": [
    "#Q1-3.전국의 고등학교에 대해 각 학교의 총 학생수(1,2,3학년 학생수의 합)를 구해 마지막 열에 삽입하여 출력하는 프로그램을 작성하시오.\n",
    "\n",
    "# pandas는 사용하지 않고 numpy 함수 및 배열만 이용하여 코드를 작성하시오.\n"
   ]
  },
  {
   "cell_type": "code",
   "execution_count": null,
   "metadata": {},
   "outputs": [],
   "source": [
    "#Q1-4. 전국 고등학교에 대해 각 학년별 총 학생수를 출력하고, 막대 그래프를 통해 시각화하는 프로그램을 작성하시오.\n",
    "\n",
    "# pandas는 사용하지 않고 numpy 함수 및 배열만 이용하여 코드를 작성하시오.\n",
    "\n",
    "\n",
    "plt.title('The total number of high school students nationwide.')\n",
    "plt.show()\n",
    "\n",
    "\n",
    "#Q1. End"
   ]
  },
  {
   "cell_type": "markdown",
   "metadata": {},
   "source": [
    "#### Q2. population_age_2020.csv 파일은 행정안전부에서 제공한 국내 주민등록상 나이별 인구 통계 데이터(2020년 2월 기준)의 CSV 파일이다. \n",
    "#### 코드 블록 내에 주어진 문제에 맞게 코드를 작성하시오. (Q2.1~2.5)"
   ]
  },
  {
   "cell_type": "code",
   "execution_count": null,
   "metadata": {},
   "outputs": [],
   "source": [
    "#Q2-1. population_age_2020.csv 파일을 읽어들여 2차원 리스트에 저장한 다음 출력하는 프로그램을 작성하시오.\n",
    "import csv\n",
    "\n",
    "# csv 파일을 읽는 것은 파이썬의 open 함수와 csv.reader() 함수를 이용한다.\n",
    "\n"
   ]
  },
  {
   "cell_type": "code",
   "execution_count": null,
   "metadata": {},
   "outputs": [],
   "source": [
    "#Q2-2. Q2-1.의 2차원 리스트 데이터에 대해 열과 행을 바꾸어 출력하는 프로그램을 작성하시오.\n",
    "\n",
    "# pandas는 사용하지 않고 코드를 작성하시오.\n"
   ]
  },
  {
   "cell_type": "code",
   "execution_count": null,
   "metadata": {},
   "outputs": [],
   "source": [
    "#Q2-3. Q2-2.의 2차원 리스트 데이터를 딕셔너리 데이터 형으로 변환하여 출력하는 프로그램을 작성하시오.\n",
    "\n"
   ]
  },
  {
   "cell_type": "code",
   "execution_count": null,
   "metadata": {},
   "outputs": [],
   "source": [
    "#Q2-4. Q2-3.의 딕셔너리 데이터를 DataFrame에 저장한 다음 출력하는 프로그램을 작성하시오.\n"
   ]
  },
  {
   "cell_type": "code",
   "execution_count": null,
   "metadata": {},
   "outputs": [],
   "source": [
    "#Q2-5. Q2-4.의 DataFrame에 저장된 데이터를 '100세 이상' 열을 기준으로 하여 내림차순으로 정렬하여 지역, 100세 이상, 총인구수를 열로 하여 출력하는 프로그램을 작성하시오. \n",
    "\n",
    "\n",
    "\n",
    "#Q2. End"
   ]
  },
  {
   "cell_type": "markdown",
   "metadata": {},
   "source": [
    "#### Q3. jeju_2019.csv 파일은 기상청에서 제공하는 제주, 고산, 성산, 서귀포 네 지역에서 관측된 기상 데이터 CSV 파일이다.\n",
    "#### 코드 블록 내에 주어진 문제에 맞게 코드를 작성하시오. (Q3.1~3.5)"
   ]
  },
  {
   "cell_type": "code",
   "execution_count": null,
   "metadata": {},
   "outputs": [],
   "source": [
    "#Q3-1. jeju_2019.csv 파일을 읽어들여 1월달의 최저기온 평균과 최고기온 평균을 출력하시오.\n"
   ]
  },
  {
   "cell_type": "code",
   "execution_count": null,
   "metadata": {},
   "outputs": [],
   "source": [
    "#Q3-2. 지역별 8월 최고기온을 구하여 8월중 최고기온이 가장 높은 지역을 출력하시오.\n"
   ]
  },
  {
   "cell_type": "code",
   "execution_count": null,
   "metadata": {},
   "outputs": [],
   "source": [
    "#Q3-2. 지역과 상관 없이 1~12월의 월별 강수량 합계를 이용하여 가장 비가 많이오는 월을 출력하시오.\n"
   ]
  },
  {
   "cell_type": "code",
   "execution_count": null,
   "metadata": {},
   "outputs": [],
   "source": [
    "#Q3-4. 서귀포 지역의 7월 최저/최고 습도를 출력하시오.\n"
   ]
  },
  {
   "cell_type": "code",
   "execution_count": null,
   "metadata": {},
   "outputs": [],
   "source": [
    "#Q3-5. 제주도 각 지역 중에서 연 강수량이 최대인 지역을 출력하시오.\n",
    "\n",
    "\n",
    "\n",
    "\n",
    "#Q3. End"
   ]
  }
 ],
 "metadata": {
  "kernelspec": {
   "display_name": "Python 3 (ipykernel)",
   "language": "python",
   "name": "python3"
  },
  "language_info": {
   "codemirror_mode": {
    "name": "ipython",
    "version": 3
   },
   "file_extension": ".py",
   "mimetype": "text/x-python",
   "name": "python",
   "nbconvert_exporter": "python",
   "pygments_lexer": "ipython3",
   "version": "3.12.0"
  }
 },
 "nbformat": 4,
 "nbformat_minor": 4
}
